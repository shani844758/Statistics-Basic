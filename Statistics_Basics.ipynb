{
  "nbformat": 4,
  "nbformat_minor": 0,
  "metadata": {
    "colab": {
      "provenance": []
    },
    "kernelspec": {
      "name": "python3",
      "display_name": "Python 3"
    },
    "language_info": {
      "name": "python"
    }
  },
  "cells": [
    {
      "cell_type": "markdown",
      "source": [
        "1. What is statistics, and why is it important?\n",
        "~ Statistics is the study of collecting, organizing, analyzing, and interpreting data.\n",
        "Importance:\n",
        "It helps us make informed decisions by understanding patterns, trends, and probabilities in data.\n",
        "\n",
        "2. What are the two main types of statistics?\n",
        "~ The two main types of statistics are:\n",
        "Descriptive Statistics – Summarizes and describes data (e.g., average, percentage).\n",
        "Inferential Statistics – Makes predictions or decisions based on sample data.\n",
        "\n",
        "3. What are descriptive statistics?\n",
        "~ Descriptive statistics are methods used to summarize and describe the main features of a dataset.\n",
        "Examples: Mean (average), median, mode, range, and graphs like bar charts or pie charts.\n",
        "\n",
        "4. What is inferential statistics?\n",
        "~ Inferential statistics uses a sample of data to make guesses or predictions about a larger group (population).\n",
        "Example: Estimating election results from a survey of 1,000 people.\n",
        "\n",
        "5. What is sampling in statistics?\n",
        "~ Sampling in statistics means selecting a small group (sample) from a larger group (population) to study and draw conclusions about the whole group.\n",
        "\n",
        "6. What are the different types of sampling methods?\n",
        "~ Random Sampling – Every person has an equal chance of being selected.\n",
        "Systematic Sampling – Select every kᵗʰ person (e.g., every 10th).\n",
        "Stratified Sampling – Divide the population into groups (strata) and sample from each group.\n",
        "Cluster Sampling – Divide into clusters, randomly select some clusters, then sample everyone in them.\n",
        "Convenience Sampling – Use people who are easy to reach (not random, less reliable).\n",
        "\n",
        "7. What is the difference between random and non-random sampling?\n",
        "~ Random Sampling:\n",
        "Every individual has an equal chance of being chosen.\n",
        "Example: Picking names from a hat.\n",
        "Unbiased and more accurate.\n",
        "Non-Random Sampling:\n",
        "Selection is based on convenience or judgment.\n",
        "Example: Surveying your friends only.\n",
        "Can be biased and less reliable.\n",
        "\n",
        "8. Define and give examples of qualitative and quantitative data?\n",
        "~ Qualitative Data:\n",
        "Describes qualities or categories.\n",
        "Example: Colors (red, blue), gender, names.\n",
        "Quantitative Data:\n",
        "Describes numbers or amounts.\n",
        "Example: Age (25 years), height (5.6 feet), marks (80 out of 100).\n",
        "\n",
        "9. What are the different types of data in statistics?\n",
        "~ There are four main types of data in statistics:\n",
        "Nominal – Names or categories.\n",
        "Ordinal – Ordered categories.\n",
        "Interval – Numbers with equal spacing, but no true zero.\n",
        "Ratio – Like interval, but has a true zero.\n",
        "\n",
        "10. Explain nominal, ordinal, interval, and ratio levels of measurement.\n",
        "~ Nominal – Labels or categories, no order.\n",
        "Example: Gender (male, female), colors (red, blue)\n",
        "\n",
        "Ordinal – Ordered categories, but gaps aren’t equal.\n",
        "Example: Small, Medium, Large; 1st, 2nd, 3rd\n",
        "\n",
        "Interval – Ordered, equal gaps, but no true zero.\n",
        "Example: Temperature (Celsius, Fahrenheit)\n",
        "\n",
        "Ratio – Ordered, equal gaps, has a true zero.\n",
        "Example: Weight, height, age, income\n",
        "\n",
        "11. What is the measure of central tendency?\n",
        "~ Measures of central tendency are statistical values that describe the center or typical value of a dataset.\n",
        "\n",
        "12. Define mean, median, and mode.\n",
        "~ Mean: The average. Add all values, then divide by how many.\n",
        "Example: (2 + 4 + 6) ÷ 3 = 4\n",
        "Median: The middle value when data is sorted.\n",
        "Example: 3, 5, 7 → Median = 5\n",
        "Mode: The value that appears most often.\n",
        "Example: 2, 3, 3, 4 → Mode = 3\n",
        "\n",
        "13. What is the significance of the measure of central tendency?\n",
        "~ The measure of central tendency helps us understand the typical or average value in a dataset.\n",
        "Significance:\n",
        "Summarizes large data into a single value\n",
        "Helps in comparison\n",
        "Useful in decision-making (e.g., average income, test scores)\n",
        "\n",
        "14. What is variance, and how is it calculated?\n",
        "~ Variance shows how much the data values spread out from the mean.\n",
        "How to calculate:\n",
        "Find the mean.\n",
        "Subtract the mean from each value.\n",
        "Square each result\n",
        "Add them all\n",
        "Divide by (n - 1) for a sample.\n",
        "\n",
        "15. What is standard deviation, and why is it important?\n",
        "~ Standard deviation measures how much data values deviate (spread) from the mean.\n",
        "It is the square root of variance.\n",
        "Importance:\n",
        "Shows consistency in data\n",
        "Low SD = data is close to mean (stable)\n",
        "High SD = data is spread out (less stable)\n",
        "Useful in comparing variability between datasets\n",
        "\n",
        "16. Define and explain the term range in statistics.\n",
        "~ Range is the difference between the highest and lowest values in a dataset.\n",
        "Formula:\n",
        "Range = Highest value − Lowest value\n",
        "Example:\n",
        "If data = 5, 8, 12\n",
        "Range = 12 − 5 = 7\n",
        "It shows how spread out the data is.\n",
        "\n",
        "17. What is the difference between variance and standard deviation?\n",
        "~ Difference between Variance and Standard Deviation:\n",
        "Variance measures the average squared distance from the mean.\n",
        "Standard Deviation is the square root of variance (in the same unit as data).\n",
        "\n",
        "18. What is skewness in a dataset?\n",
        "~ Skewness shows whether the data is symmetrical or not around the mean.It helps understand the shape of data distribution.\n",
        "\n",
        "19. What does it mean if a dataset is positively or negatively skewed?\n",
        "~ Positively Skewed (Right-skewed):\n",
        "Long tail on the right\n",
        "Mean > Median\n",
        "Few high values pull the mean up\n",
        "Example: Income data (few very rich people)\n",
        "Negatively Skewed (Left-skewed):\n",
        "Long tail on the left\n",
        "Mean < Median\n",
        "Few low values pull the mean down\n",
        "Example: Test scores where most scored high\n",
        "\n",
        "20. Define and explain kurtosis.\n",
        "~ Kurtosis measures the \"tailedness\" or peakedness of a data distribution.\n",
        "It tells us about the presence of outliers and sharpness of the peak in the data.\n",
        "\n",
        "21. What is the purpose of covariance?\n",
        "~ Covariance shows how two variables change together.\n",
        "Purpose:\n",
        "It helps understand the relationship direction between two variables, like height and weight.\n",
        "\n",
        "22. What does correlation measure in statistics?\n",
        "~ Correlation measures the strength and direction of the relationship between two variables.\n",
        "Range: –1 to +1\n",
        "+1: Strong positive relation\n",
        "–1: Strong negative relation\n",
        "0: No relation\n",
        "\n",
        "23. What is the difference between covariance and correlation?\n",
        "~ Covariance:\n",
        "Shows direction of relationship\n",
        "Value can be any number\n",
        "Hard to compare across datasets\n",
        "Correlation:\n",
        "Shows direction and strength\n",
        "Value is always between –1 and +1\n",
        "Standardized, easy to compare\n",
        "\n",
        "24. What are some real-world applications of statistics?\n",
        "~ Real-world applications of statistics:\n",
        "Business – Analyzing sales, profits, and customer trends\n",
        "Healthcare – Studying diseases, treatment effects, and patient data\n",
        "Education – Exam results analysis, student performance tracking\n",
        "Government – Census, unemployment rate, budget planning\n",
        "Sports – Player performance stats, game strategies\n",
        "Weather Forecasting – Predicting temperatures and rainfall using data\n",
        "Marketing – Understanding customer behavior and targeting ads"
      ],
      "metadata": {
        "id": "-y-ZAJDYzkAb"
      }
    },
    {
      "cell_type": "markdown",
      "source": [
        "**Practical**"
      ],
      "metadata": {
        "id": "Bm4jPndX-7uF"
      }
    },
    {
      "cell_type": "code",
      "source": [
        "#1 How do you calculate the mean, median, and mode of a dataset?\n",
        "import statistics\n",
        "\n",
        "data = [10, 15, 20, 15, 30, 15, 40]\n",
        "\n",
        "# Mean\n",
        "mean_val = statistics.mean(data)\n",
        "print(\"Mean:\", mean_val)\n",
        "\n",
        "# Median\n",
        "median_val = statistics.median(data)\n",
        "print(\"Median:\", median_val)\n",
        "\n",
        "# Mode\n",
        "mode_val = statistics.mode(data)\n",
        "print(\"Mode:\", mode_val)\n"
      ],
      "metadata": {
        "colab": {
          "base_uri": "https://localhost:8080/"
        },
        "id": "1BCNiNB4_A_j",
        "outputId": "2738e850-259c-4926-f21a-79fbdc73e4a9"
      },
      "execution_count": 1,
      "outputs": [
        {
          "output_type": "stream",
          "name": "stdout",
          "text": [
            "Mean: 20.714285714285715\n",
            "Median: 15\n",
            "Mode: 15\n"
          ]
        }
      ]
    },
    {
      "cell_type": "code",
      "source": [
        "#2 Write a Python program to compute the variance and standard deviation of a dataset.\n",
        "import statistics\n",
        "\n",
        "# Sample dataset\n",
        "data = [12, 15, 20, 22, 18, 30, 25]\n",
        "\n",
        "# Variance\n",
        "variance = statistics.variance(data)\n",
        "print(\"Variance:\", variance)\n",
        "\n",
        "# Standard Deviation\n",
        "std_dev = statistics.stdev(data)\n",
        "print(\"Standard Deviation:\", std_dev)\n"
      ],
      "metadata": {
        "colab": {
          "base_uri": "https://localhost:8080/"
        },
        "id": "tXpM0J2w_nZ4",
        "outputId": "c0b60395-c6d1-4e34-d892-da8d434891b2"
      },
      "execution_count": 2,
      "outputs": [
        {
          "output_type": "stream",
          "name": "stdout",
          "text": [
            "Variance: 36.904761904761905\n",
            "Standard Deviation: 6.074928962939559\n"
          ]
        }
      ]
    },
    {
      "cell_type": "code",
      "source": [
        "#3 Create a dataset and classify it into nominal, ordinal, interval, and ratio types.\n",
        "dataset = {\n",
        "    \"Name\": [\"Suraj\", \"Rahul\", \"Geeta\", \"Preeti\"],              # Nominal\n",
        "    \"Education_Level\": [\"High School\", \"College\", \"PhD\", \"Master\"],  # Ordinal\n",
        "    \"Temperature_C\": [25, 30, 22, 28],                          # Interval\n",
        "    \"Height_cm\": [160, 175, 168, 170]                           # Ratio\n",
        "    }\n"
      ],
      "metadata": {
        "id": "fqmqLXl3_3Mb"
      },
      "execution_count": 4,
      "outputs": []
    },
    {
      "cell_type": "code",
      "source": [
        "#4 Implement sampling techniques like random sampling and stratified sampling.\n",
        "\n",
        "import random\n",
        "\n",
        "# Population dataset\n",
        "population = [\"Suraj\", \"Rahul\", \"Geeta\", \"Preeti\", \"Aman\", \"Tina\", \"Vikas\", \"Neha\"]\n",
        "\n",
        "# Take a random sample of 4\n",
        "random_sample = random.sample(population, 4)\n",
        "print(\"Random Sample:\", random_sample)\n",
        "\n",
        "from sklearn.model_selection import train_test_split\n",
        "import pandas as pd\n",
        "\n",
        "# Example dataset with gender as strata\n",
        "data = pd.DataFrame({\n",
        "    \"Name\": [\"Suraj\", \"Rahul\", \"Geeta\", \"Preeti\", \"Aman\", \"Tina\", \"Vikas\", \"Neha\"],\n",
        "    \"Gender\": [\"Male\", \"Male\", \"Female\", \"Female\", \"Male\", \"Female\", \"Male\", \"Female\"]\n",
        "})\n",
        "\n",
        "# Stratified sample (20% from each gender group)\n",
        "train, sample = train_test_split(data, test_size=0.5, stratify=data[\"Gender\"], random_state=42)\n",
        "print(\"Stratified Sample:\\n\", sample)\n"
      ],
      "metadata": {
        "colab": {
          "base_uri": "https://localhost:8080/"
        },
        "id": "nylEr3UaAWsF",
        "outputId": "2d78d3d0-7484-4b6a-81f6-6f9935640cc6"
      },
      "execution_count": 5,
      "outputs": [
        {
          "output_type": "stream",
          "name": "stdout",
          "text": [
            "Random Sample: ['Rahul', 'Aman', 'Suraj', 'Tina']\n",
            "Stratified Sample:\n",
            "     Name  Gender\n",
            "5   Tina  Female\n",
            "2  Geeta  Female\n",
            "4   Aman    Male\n",
            "0  Suraj    Male\n"
          ]
        }
      ]
    },
    {
      "cell_type": "code",
      "source": [
        "#5 Write a Python function to calculate the range of a dataset.\n",
        "\n",
        "def calculate_range(data):\n",
        "    if not data:\n",
        "        return None  # Handle empty list\n",
        "    return max(data) - min(data)\n",
        "\n",
        "# Example usage\n",
        "dataset = [12, 25, 7, 30, 18]\n",
        "range_val = calculate_range(dataset)\n",
        "print(\"Range:\", range_val)\n"
      ],
      "metadata": {
        "colab": {
          "base_uri": "https://localhost:8080/"
        },
        "id": "v7JssnviAzDq",
        "outputId": "c4e54055-4070-4297-9a17-9692a51c3ac8"
      },
      "execution_count": 6,
      "outputs": [
        {
          "output_type": "stream",
          "name": "stdout",
          "text": [
            "Range: 23\n"
          ]
        }
      ]
    },
    {
      "cell_type": "code",
      "source": [
        "#6 Create a dataset and plot its histogram to visualize skewness.\n",
        "\n",
        "import matplotlib.pyplot as plt\n",
        "import numpy as np\n",
        "\n",
        "# Positively skewed dataset (more values on the lower side)\n",
        "data = [5, 6, 7, 8, 8, 9, 10, 10, 11, 12, 13, 15, 20, 25, 30, 35]\n",
        "\n",
        "# Plot histogram\n",
        "plt.hist(data, bins=8, color='skyblue', edgecolor='black')\n",
        "plt.title(\"Histogram to Show Skewness\")\n",
        "plt.xlabel(\"Values\")\n",
        "plt.ylabel(\"Frequency\")\n",
        "plt.grid(True)\n",
        "plt.show()\n"
      ],
      "metadata": {
        "colab": {
          "base_uri": "https://localhost:8080/",
          "height": 472
        },
        "id": "NEsXPO2fA87n",
        "outputId": "d280d7c8-be97-4a07-a629-9d4136868d07"
      },
      "execution_count": 7,
      "outputs": [
        {
          "output_type": "display_data",
          "data": {
            "text/plain": [
              "<Figure size 640x480 with 1 Axes>"
            ],
            "image/png": "[encoded data removed]"
          },
          "metadata": {}
        }
      ]
    },
    {
      "cell_type": "code",
      "source": [
        "#7 Calculate skewness and kurtosis of a dataset using Python libraries.\n",
        "\n",
        "import numpy as np\n",
        "from scipy.stats import skew, kurtosis\n",
        "\n",
        "# Example dataset\n",
        "data = [5, 6, 7, 8, 9, 10, 10, 11, 12, 13, 15, 20, 25, 30, 35]\n",
        "\n",
        "# Calculate skewness\n",
        "data_skewness = skew(data)\n",
        "print(\"Skewness:\", data_skewness)\n",
        "\n",
        "# Calculate kurtosis\n",
        "data_kurtosis = kurtosis(data)\n",
        "print(\"Kurtosis:\", data_kurtosis)\n"
      ],
      "metadata": {
        "colab": {
          "base_uri": "https://localhost:8080/"
        },
        "id": "QggWHpHOBJgl",
        "outputId": "8cfa00a2-677e-43ab-8276-815f5d109683"
      },
      "execution_count": 8,
      "outputs": [
        {
          "output_type": "stream",
          "name": "stdout",
          "text": [
            "Skewness: 1.1298904687155715\n",
            "Kurtosis: 0.0674982831288804\n"
          ]
        }
      ]
    },
    {
      "cell_type": "code",
      "source": [
        "#8 Generate a dataset and demonstrate positive and negative skewness.\n",
        "\n",
        "import numpy as np\n",
        "import matplotlib.pyplot as plt\n",
        "from scipy.stats import skew\n",
        "\n",
        "# Generate positively skewed data (exponential)\n",
        "positive_skew_data = np.random.exponential(scale=2, size=1000)\n",
        "\n",
        "# Generate negatively skewed data (reverse exponential)\n",
        "negative_skew_data = -np.random.exponential(scale=2, size=1000)\n",
        "\n",
        "# Calculate skewness\n",
        "pos_skew_value = skew(positive_skew_data)\n",
        "neg_skew_value = skew(negative_skew_data)\n",
        "\n",
        "print(\"Positive Skewness Value:\", pos_skew_value)\n",
        "print(\"Negative Skewness Value:\", neg_skew_value)\n",
        "\n",
        "# Plotting histograms\n",
        "plt.figure(figsize=(12, 5))\n",
        "\n",
        "# Positive Skew\n",
        "plt.subplot(1, 2, 1)\n",
        "plt.hist(positive_skew_data, bins=30, color='lightblue', edgecolor='black')\n",
        "plt.title(\"Positive Skew (Right-Skewed)\")\n",
        "plt.xlabel(\"Values\")\n",
        "plt.ylabel(\"Frequency\")\n",
        "\n",
        "# Negative Skew\n",
        "plt.subplot(1, 2, 2)\n",
        "plt.hist(negative_skew_data, bins=30, color='lightcoral', edgecolor='black')\n",
        "plt.title(\"Negative Skew (Left-Skewed)\")\n",
        "plt.xlabel(\"Values\")\n",
        "plt.ylabel(\"Frequency\")\n",
        "\n",
        "plt.tight_layout()\n",
        "plt.show()\n"
      ],
      "metadata": {
        "colab": {
          "base_uri": "https://localhost:8080/",
          "height": 528
        },
        "id": "7KPCgEl-BVIe",
        "outputId": "a786c2d4-3ae5-4e99-9224-64afade95a35"
      },
      "execution_count": 9,
      "outputs": [
        {
          "output_type": "stream",
          "name": "stdout",
          "text": [
            "Positive Skewness Value: 2.2150955995661894\n",
            "Negative Skewness Value: -2.0334970725528856\n"
          ]
        },
        {
          "output_type": "display_data",
          "data": {
            "text/plain": [
              "<Figure size 1200x500 with 2 Axes>"
            ],
            "image/png": "[encoded data removed]"
          },
          "metadata": {}
        }
      ]
    },
    {
      "cell_type": "code",
      "source": [
        "#9 Write a Python script to calculate covariance between two datasets.\n",
        "\n",
        "import numpy as np\n",
        "\n",
        "# Two example datasets\n",
        "x = [10, 20, 30, 40, 50]\n",
        "y = [15, 25, 35, 45, 60]\n",
        "\n",
        "# Calculate covariance matrix\n",
        "cov_matrix = np.cov(x, y)\n",
        "\n",
        "# Extract covariance value\n",
        "covariance = cov_matrix[0, 1]\n",
        "print(\"Covariance between x and y:\", covariance)\n"
      ],
      "metadata": {
        "colab": {
          "base_uri": "https://localhost:8080/"
        },
        "id": "jepgHUQ1BfWE",
        "outputId": "72051fd2-21f5-4dc8-dbc4-6ca6eac1c386"
      },
      "execution_count": 10,
      "outputs": [
        {
          "output_type": "stream",
          "name": "stdout",
          "text": [
            "Covariance between x and y: 275.0\n"
          ]
        }
      ]
    },
    {
      "cell_type": "code",
      "source": [
        "#10 Write a Python script to calculate the correlation coefficient between two datasets.\n",
        "\n",
        "import numpy as np\n",
        "\n",
        "# Two example datasets\n",
        "x = [10, 20, 30, 40, 50]\n",
        "y = [12, 24, 33, 47, 55]\n",
        "\n",
        "# Calculate correlation matrix\n",
        "correlation_matrix = np.corrcoef(x, y)\n",
        "\n",
        "# Extract the correlation coefficient\n",
        "correlation = correlation_matrix[0, 1]\n",
        "print(\"Correlation Coefficient between x and y:\", correlation)\n"
      ],
      "metadata": {
        "colab": {
          "base_uri": "https://localhost:8080/"
        },
        "id": "wJ54jjiIBrgu",
        "outputId": "689dd666-6b70-4dca-cc4e-cdfd41e336f5"
      },
      "execution_count": 11,
      "outputs": [
        {
          "output_type": "stream",
          "name": "stdout",
          "text": [
            "Correlation Coefficient between x and y: 0.9971922417083551\n"
          ]
        }
      ]
    },
    {
      "cell_type": "code",
      "source": [
        "#11 Create a scatter plot to visualize the relationship between two variables.\n",
        "\n",
        "import matplotlib.pyplot as plt\n",
        "\n",
        "# Example data\n",
        "x = [10, 20, 30, 40, 50]\n",
        "y = [12, 24, 33, 47, 55]\n",
        "\n",
        "# Create scatter plot\n",
        "plt.scatter(x, y, color='green', edgecolor='black')\n",
        "plt.title(\"Scatter Plot of X vs Y\")\n",
        "plt.xlabel(\"X Values\")\n",
        "plt.ylabel(\"Y Values\")\n",
        "plt.grid(True)\n",
        "plt.show()\n"
      ],
      "metadata": {
        "colab": {
          "base_uri": "https://localhost:8080/",
          "height": 472
        },
        "id": "azV2_DrgBzCQ",
        "outputId": "7d2983a2-f5b6-4906-e1ee-12f66c265e8a"
      },
      "execution_count": 12,
      "outputs": [
        {
          "output_type": "display_data",
          "data": {
            "text/plain": [
              "<Figure size 640x480 with 1 Axes>"
            ],
            "image/png": "[encoded data removed]"
          },
          "metadata": {}
        }
      ]
    },
    {
      "cell_type": "code",
      "source": [
        "#12 Implement and compare simple random sampling and systematic sampling.\n",
        "\n",
        "import random\n",
        "import pandas as pd\n",
        "\n",
        "# Example dataset: 1 to 100\n",
        "population = list(range(1, 101))  # Total 100 values\n",
        "\n",
        "sample_size = 10  # Sample 10 values\n",
        "\n",
        "# --- Simple Random Sampling ---\n",
        "random_sample = random.sample(population, sample_size)\n",
        "print(\"Simple Random Sample:\", random_sample)\n",
        "\n",
        "# --- Systematic Sampling ---\n",
        "k = len(population) // sample_size  # Sampling interval\n",
        "start = random.randint(0, k - 1)    # Random start point\n",
        "\n",
        "systematic_sample = [population[i] for i in range(start, len(population), k)]\n",
        "print(\"Systematic Sample:\", systematic_sample)\n"
      ],
      "metadata": {
        "colab": {
          "base_uri": "https://localhost:8080/"
        },
        "id": "p_mMzpiQB8vv",
        "outputId": "9e50ad14-e88c-4e32-d8aa-87c579301280"
      },
      "execution_count": 13,
      "outputs": [
        {
          "output_type": "stream",
          "name": "stdout",
          "text": [
            "Simple Random Sample: [1, 62, 21, 15, 18, 90, 38, 36, 86, 57]\n",
            "Systematic Sample: [6, 16, 26, 36, 46, 56, 66, 76, 86, 96]\n"
          ]
        }
      ]
    },
    {
      "cell_type": "code",
      "source": [
        "#13 Calculate the mean, median, and mode of grouped data.\n",
        "\n",
        "import pandas as pd\n",
        "from statistics import mode\n",
        "\n",
        "# Class intervals (midpoints) and their frequencies\n",
        "classes = [\"0-10\", \"10-20\", \"20-30\", \"30-40\", \"40-50\"]\n",
        "frequencies = [5, 8, 15, 16, 6]\n",
        "\n",
        "# Calculate midpoints of class intervals\n",
        "midpoints = [(int(c.split('-')[0]) + int(c.split('-')[1])) / 2 for c in classes]\n",
        "\n",
        "# Create DataFrame\n",
        "df = pd.DataFrame({\n",
        "    'Class': classes,\n",
        "    'Midpoint': midpoints,\n",
        "    'Frequency': frequencies\n",
        "})\n",
        "\n",
        "# --- Mean ---\n",
        "# Mean = Σ(f * x) / Σf\n",
        "fx = [f * x for f, x in zip(frequencies, midpoints)]\n",
        "mean = sum(fx) / sum(frequencies)\n",
        "print(\"Mean:\", mean)\n",
        "\n",
        "# --- Median ---\n",
        "# Step 1: Create cumulative frequency\n",
        "df['Cumulative_Freq'] = df['Frequency'].cumsum()\n",
        "\n",
        "# Step 2: Find median class (where cum. freq >= n/2)\n",
        "n = sum(frequencies)\n",
        "median_class_index = df[df['Cumulative_Freq'] >= n/2].index[0]\n",
        "\n",
        "L = int(classes[median_class_index].split('-')[0])   # Lower boundary\n",
        "f = df.loc[median_class_index, 'Frequency']          # Frequency of median class\n",
        "cf = df.loc[median_class_index - 1, 'Cumulative_Freq'] if median_class_index > 0 else 0\n",
        "h = 10  # Class width\n",
        "\n",
        "median = L + ((n/2 - cf) / f) * h\n",
        "print(\"Median:\", median)\n",
        "\n",
        "# --- Mode ---\n",
        "# Mode = L + [(f1 - f0) / (2f1 - f0 - f2)] * h\n",
        "modal_class_index = df['Frequency'].idxmax()\n",
        "L = int(classes[modal_class_index].split('-')[0])\n",
        "f1 = df.loc[modal_class_index, 'Frequency']\n",
        "f0 = df.loc[modal_class_index - 1, 'Frequency'] if modal_class_index > 0 else 0\n",
        "f2 = df.loc[modal_class_index + 1, 'Frequency'] if modal_class_index < len(df) - 1 else 0\n",
        "\n",
        "mode_value = L + ((f1 - f0) / (2 * f1 - f0 - f2)) * h\n",
        "print(\"Mode:\", mode_value)\n"
      ],
      "metadata": {
        "colab": {
          "base_uri": "https://localhost:8080/"
        },
        "id": "wwwXWpxHCJdF",
        "outputId": "51620303-7150-412a-be95-098910c85b2e"
      },
      "execution_count": 14,
      "outputs": [
        {
          "output_type": "stream",
          "name": "stdout",
          "text": [
            "Mean: 27.0\n",
            "Median: 28.0\n",
            "Mode: 30.90909090909091\n"
          ]
        }
      ]
    },
    {
      "cell_type": "code",
      "source": [
        "#14 Simulate data using Python and calculate its central tendency and dispersion.\n",
        "\n",
        "import numpy as np\n",
        "import statistics\n",
        "\n",
        "# 1. Simulate random data (e.g., 100 test scores between 0 and 100)\n",
        "data = np.random.randint(0, 101, size=100)\n",
        "print(\"Simulated Data:\\n\", data)\n",
        "\n",
        "# 2. Central Tendency\n",
        "mean_val = np.mean(data)\n",
        "median_val = np.median(data)\n",
        "mode_val = statistics.mode(data)\n",
        "\n",
        "print(\"\\n--- Central Tendency ---\")\n",
        "print(\"Mean:\", mean_val)\n",
        "print(\"Median:\", median_val)\n",
        "print(\"Mode:\", mode_val)\n",
        "\n",
        "# 3. Dispersion\n",
        "range_val = max(data) - min(data)\n",
        "variance_val = np.var(data, ddof=1)  # sample variance\n",
        "std_dev_val = np.std(data, ddof=1)   # sample standard deviation\n",
        "\n",
        "print(\"\\n--- Dispersion ---\")\n",
        "print(\"Range:\", range_val)\n",
        "print(\"Variance:\", variance_val)\n",
        "print(\"Standard Deviation:\", std_dev_val)\n"
      ],
      "metadata": {
        "colab": {
          "base_uri": "https://localhost:8080/"
        },
        "id": "dvxNTYY5CUmn",
        "outputId": "5c08daae-9c38-493e-cb3d-2c4f57d79a24"
      },
      "execution_count": 15,
      "outputs": [
        {
          "output_type": "stream",
          "name": "stdout",
          "text": [
            "Simulated Data:\n",
            " [ 98   6  25  33  49  31  35  95  57  76  58   1   7  69  79  44  36  93\n",
            "  71   8  52  56   4  33  64  75  79  98  90  32  35  22  77  81  48  28\n",
            "  82  62  77  16  65   7  62  64  97  50  59  94  35  34  46  96  27  24\n",
            "  75   8  25  45  22  55  53  33  19  14   2  77  34  56  81  29  70  13\n",
            "   5  82  44  35  95  25  77  82  54  91 100  25  52  71  39  86  36  91\n",
            "  59  99   3  17  34  21  11  24  62  49]\n",
            "\n",
            "--- Central Tendency ---\n",
            "Mean: 50.22\n",
            "Median: 49.5\n",
            "Mode: 25\n",
            "\n",
            "--- Dispersion ---\n",
            "Range: 99\n",
            "Variance: 825.3854545454545\n",
            "Standard Deviation: 28.729522351502027\n"
          ]
        }
      ]
    },
    {
      "cell_type": "code",
      "source": [
        "#15 Use NumPy or pandas to summarize a dataset’s descriptive statistics.\n",
        "\n",
        "\n",
        "import numpy as np\n",
        "\n",
        "# Example dataset\n",
        "data = np.array([15, 22, 27, 30, 35, 40, 45, 50, 60])\n",
        "\n",
        "# Summary statistics\n",
        "print(\"Mean:\", np.mean(data))\n",
        "print(\"Median:\", np.median(data))\n",
        "print(\"Standard Deviation:\", np.std(data, ddof=1))  # sample std\n",
        "print(\"Variance:\", np.var(data, ddof=1))\n",
        "print(\"Min:\", np.min(data))\n",
        "print(\"Max:\", np.max(data))\n",
        "print(\"Range:\", np.max(data) - np.min(data))"
      ],
      "metadata": {
        "colab": {
          "base_uri": "https://localhost:8080/"
        },
        "id": "DIvjtfpkCoQY",
        "outputId": "ac7897ae-5388-454f-ef02-20c36ffebc50"
      },
      "execution_count": 16,
      "outputs": [
        {
          "output_type": "stream",
          "name": "stdout",
          "text": [
            "Mean: 36.0\n",
            "Median: 35.0\n",
            "Standard Deviation: 14.247806848775006\n",
            "Variance: 203.0\n",
            "Min: 15\n",
            "Max: 60\n",
            "Range: 45\n"
          ]
        }
      ]
    },
    {
      "cell_type": "code",
      "source": [
        "#16 Plot a boxplot to understand the spread and identify outliers.\n",
        "import matplotlib.pyplot as plt\n",
        "import seaborn as sns\n",
        "import numpy as np\n",
        "\n",
        "# Generate example data with some outliers\n",
        "data = np.append(np.random.normal(50, 10, 100), [10, 100])  # Adding outliers\n",
        "\n",
        "# Plot boxplot\n",
        "plt.figure(figsize=(8, 5))\n",
        "sns.boxplot(data=data, color='skyblue')\n",
        "plt.title(\"Boxplot - Spread and Outliers\")\n",
        "plt.xlabel(\"Values\")\n",
        "plt.grid(True)\n",
        "plt.show()\n",
        "\n"
      ],
      "metadata": {
        "colab": {
          "base_uri": "https://localhost:8080/",
          "height": 473
        },
        "id": "uO-ekC6RC1Z0",
        "outputId": "7a06a3e7-3fc2-478a-916c-f79b4bafecca"
      },
      "execution_count": 17,
      "outputs": [
        {
          "output_type": "display_data",
          "data": {
            "text/plain": [
              "<Figure size 800x500 with 1 Axes>"
            ],
            "image/png": "[encoded data removed]"
          },
          "metadata": {}
        }
      ]
    },
    {
      "cell_type": "code",
      "source": [
        "#17 Calculate the interquartile range (IQR) of a dataset.\n",
        "\n",
        "import numpy as np\n",
        "\n",
        "# Example dataset\n",
        "data = [15, 20, 22, 25, 27, 30, 35, 40, 45, 50, 55]\n",
        "\n",
        "# Calculate Q1 and Q3\n",
        "Q1 = np.percentile(data, 25)\n",
        "Q3 = np.percentile(data, 75)\n",
        "\n",
        "# Calculate IQR\n",
        "IQR = Q3 - Q1\n",
        "\n",
        "print(\"Q1 (25th percentile):\", Q1)\n",
        "print(\"Q3 (75th percentile):\", Q3)\n",
        "print(\"Interquartile Range (IQR):\", IQR)\n"
      ],
      "metadata": {
        "colab": {
          "base_uri": "https://localhost:8080/"
        },
        "id": "F2rax-sADAGX",
        "outputId": "5a5b0a33-cc7d-4a0a-cd58-5ad6dad56fbc"
      },
      "execution_count": 18,
      "outputs": [
        {
          "output_type": "stream",
          "name": "stdout",
          "text": [
            "Q1 (25th percentile): 23.5\n",
            "Q3 (75th percentile): 42.5\n",
            "Interquartile Range (IQR): 19.0\n"
          ]
        }
      ]
    },
    {
      "cell_type": "code",
      "source": [
        "#18 Implement Z-score normalization and explain its significance.\n",
        "\n",
        "import numpy as np\n",
        "\n",
        "# Example dataset\n",
        "data = [10, 12, 15, 18, 20, 22, 25]\n",
        "\n",
        "# Calculate mean and standard deviation\n",
        "mean = np.mean(data)\n",
        "std = np.std(data)\n",
        "\n",
        "# Apply Z-score normalization\n",
        "z_scores = [(x - mean) / std for x in data]\n",
        "print(\"Original Data:\", data)\n",
        "print(\"Z-score Normalized Data:\", z_scores)\n"
      ],
      "metadata": {
        "colab": {
          "base_uri": "https://localhost:8080/"
        },
        "id": "OjjpYwmoDPKr",
        "outputId": "5510d3fc-e612-46a8-dd5c-f482f7eedf25"
      },
      "execution_count": 19,
      "outputs": [
        {
          "output_type": "stream",
          "name": "stdout",
          "text": [
            "Original Data: [10, 12, 15, 18, 20, 22, 25]\n",
            "Z-score Normalized Data: [np.float64(-1.4826914661317223), np.float64(-1.0835053021731818), np.float64(-0.4847260562353706), np.float64(0.11405318970244051), np.float64(0.5132393536609813), np.float64(0.912425517619522), np.float64(1.5112047635573331)]\n"
          ]
        }
      ]
    },
    {
      "cell_type": "code",
      "source": [
        "#19 Compare two datasets using their standard deviations.\n",
        "\n",
        "import numpy as np\n",
        "\n",
        "# Two example datasets\n",
        "data1 = [10, 12, 14, 16, 18, 20]       # Less spread\n",
        "data2 = [5, 10, 15, 20, 25, 30]        # More spread\n",
        "\n",
        "# Calculate standard deviations\n",
        "std1 = np.std(data1, ddof=1)  # sample standard deviation\n",
        "std2 = np.std(data2, ddof=1)\n",
        "\n",
        "print(\"Standard Deviation of Data 1:\", std1)\n",
        "print(\"Standard Deviation of Data 2:\", std2)\n",
        "\n",
        "# Compare\n",
        "if std1 > std2:\n",
        "    print(\"Data 1 is more spread out.\")\n",
        "elif std2 > std1:\n",
        "    print(\"Data 2 is more spread out.\")\n",
        "else:\n",
        "    print(\"Both datasets have the same spread.\")\n"
      ],
      "metadata": {
        "colab": {
          "base_uri": "https://localhost:8080/"
        },
        "id": "1Rlt2-0KDbVC",
        "outputId": "617409f6-1667-4d10-b444-6a96a07257b0"
      },
      "execution_count": 20,
      "outputs": [
        {
          "output_type": "stream",
          "name": "stdout",
          "text": [
            "Standard Deviation of Data 1: 3.7416573867739413\n",
            "Standard Deviation of Data 2: 9.354143466934854\n",
            "Data 2 is more spread out.\n"
          ]
        }
      ]
    },
    {
      "cell_type": "code",
      "source": [
        "#20 Write a Python program to visualize covariance using a heatmap.\n",
        "\n",
        "import pandas as pd\n",
        "import numpy as np\n",
        "import seaborn as sns\n",
        "import matplotlib.pyplot as plt\n",
        "\n",
        "# Create a sample DataFrame\n",
        "data = {\n",
        "    'Math':     [78, 85, 96, 80, 75, 88, 92],\n",
        "    'Science':  [82, 90, 91, 87, 76, 85, 95],\n",
        "    'English':  [70, 65, 78, 72, 74, 68, 80]\n",
        "}\n",
        "\n",
        "df = pd.DataFrame(data)\n",
        "\n",
        "# Calculate covariance matrix\n",
        "cov_matrix = df.cov()\n",
        "\n",
        "# Plot heatmap\n",
        "plt.figure(figsize=(6, 4))\n",
        "sns.heatmap(cov_matrix, annot=True, cmap='YlGnBu', fmt=\".2f\")\n",
        "plt.title(\"Covariance Heatmap\")\n",
        "plt.show()\n"
      ],
      "metadata": {
        "colab": {
          "base_uri": "https://localhost:8080/",
          "height": 391
        },
        "id": "0iPZDK8YDnlJ",
        "outputId": "83e53cf6-40ea-4338-8811-c4c603803b72"
      },
      "execution_count": 21,
      "outputs": [
        {
          "output_type": "display_data",
          "data": {
            "text/plain": [
              "<Figure size 600x400 with 2 Axes>"
            ],
            "image/png": "[encoded data removed]"
          },
          "metadata": {}
        }
      ]
    },
    {
      "cell_type": "code",
      "source": [
        "#21 Use seaborn to create a correlation matrix for a dataset.\n",
        "\n",
        "import pandas as pd\n",
        "import seaborn as sns\n",
        "import matplotlib.pyplot as plt\n",
        "\n",
        "# Sample dataset\n",
        "data = {\n",
        "    'Math':    [78, 85, 96, 80, 75, 88, 92],\n",
        "    'Science': [82, 90, 91, 87, 76, 85, 95],\n",
        "    'English': [70, 65, 78, 72, 74, 68, 80]\n",
        "}\n",
        "\n",
        "# Create DataFrame\n",
        "df = pd.DataFrame(data)\n",
        "\n",
        "# Calculate correlation matrix\n",
        "corr_matrix = df.corr()\n",
        "\n",
        "# Plot heatmap\n",
        "plt.figure(figsize=(6, 4))\n",
        "sns.heatmap(corr_matrix, annot=True, cmap='coolwarm', fmt=\".2f\")\n",
        "plt.title(\"Correlation Matrix Heatmap\")\n",
        "plt.show()\n"
      ],
      "metadata": {
        "colab": {
          "base_uri": "https://localhost:8080/",
          "height": 391
        },
        "id": "3DfKNX8aDvxZ",
        "outputId": "2c862dba-0423-486e-83eb-5850d0810cf1"
      },
      "execution_count": 22,
      "outputs": [
        {
          "output_type": "display_data",
          "data": {
            "text/plain": [
              "<Figure size 600x400 with 2 Axes>"
            ],
            "image/png": "[encoded data removed]"
          },
          "metadata": {}
        }
      ]
    },
    {
      "cell_type": "code",
      "source": [
        "#22 Generate a dataset and implement both variance and standard deviation computations.\n",
        "\n",
        "import numpy as np\n",
        "\n",
        "# Step 1: Generate random dataset (e.g., exam scores)\n",
        "data = np.random.randint(50, 101, size=20)  # 20 scores between 50 and 100\n",
        "print(\"Dataset:\", data)\n",
        "\n",
        "# Step 2: Compute Variance and Standard Deviation\n",
        "variance = np.var(data, ddof=1)            # Sample variance\n",
        "std_dev = np.std(data, ddof=1)             # Sample standard deviation\n",
        "\n",
        "# Step 3: Print results\n",
        "print(\"\\nVariance:\", variance)\n",
        "print(\"Standard Deviation:\", std_dev)\n"
      ],
      "metadata": {
        "colab": {
          "base_uri": "https://localhost:8080/"
        },
        "id": "4d7pJbtOD4ip",
        "outputId": "1beae3e2-2937-461d-922e-f3c50568ed32"
      },
      "execution_count": 23,
      "outputs": [
        {
          "output_type": "stream",
          "name": "stdout",
          "text": [
            "Dataset: [52 97 87 68 93 56 78 73 69 97 60 73 69 94 61 54 58 62 92 85]\n",
            "\n",
            "Variance: 237.35789473684216\n",
            "Standard Deviation: 15.406423814008303\n"
          ]
        }
      ]
    },
    {
      "cell_type": "code",
      "source": [
        "#23 Visualize skewness and kurtosis using Python libraries like matplotlib or seaborn.\n",
        "\n",
        "import numpy as np\n",
        "import seaborn as sns\n",
        "import matplotlib.pyplot as plt\n",
        "from scipy.stats import skew, kurtosis\n",
        "\n",
        "# Step 1: Generate a dataset (right-skewed with outliers)\n",
        "data = np.append(np.random.normal(50, 10, 1000), [120, 130, 150])  # skewed data\n",
        "\n",
        "# Step 2: Calculate skewness and kurtosis\n",
        "data_skew = skew(data)\n",
        "data_kurt = kurtosis(data)\n",
        "\n",
        "# Step 3: Print values\n",
        "print(f\"Skewness: {data_skew:.2f}\")\n",
        "print(f\"Kurtosis: {data_kurt:.2f}\")\n",
        "\n",
        "# Step 4: Plot the distribution\n",
        "plt.figure(figsize=(8, 5))\n",
        "sns.histplot(data, bins=30, kde=True, color='skyblue')\n",
        "plt.title(f\"Data Distribution\\nSkewness: {data_skew:.2f}, Kurtosis: {data_kurt:.2f}\")\n",
        "plt.xlabel(\"Values\")\n",
        "plt.ylabel(\"Frequency\")\n",
        "plt.grid(True)\n",
        "plt.show()\n"
      ],
      "metadata": {
        "colab": {
          "base_uri": "https://localhost:8080/",
          "height": 543
        },
        "id": "tUrkjr8mEBL0",
        "outputId": "de0c30f4-9bdf-4503-e37d-3452ed9a42c5"
      },
      "execution_count": 24,
      "outputs": [
        {
          "output_type": "stream",
          "name": "stdout",
          "text": [
            "Skewness: 1.27\n",
            "Kurtosis: 10.11\n"
          ]
        },
        {
          "output_type": "display_data",
          "data": {
            "text/plain": [
              "<Figure size 800x500 with 1 Axes>"
            ],
            "image/png": "[encoded data removed]"
          },
          "metadata": {}
        }
      ]
    },
    {
      "cell_type": "code",
      "source": [
        "#24 Implement the Pearson and Spearman correlation coefficients for a dataset.\n",
        "\n",
        "import pandas as pd\n",
        "from scipy.stats import pearsonr, spearmanr\n",
        "\n",
        "# Sample dataset\n",
        "data = {\n",
        "    'X': [10, 20, 30, 40, 50],\n",
        "    'Y': [12, 25, 33, 47, 55]   # Linear relationship\n",
        "}\n",
        "\n",
        "# Create DataFrame\n",
        "df = pd.DataFrame(data)\n",
        "\n",
        "# Pearson correlation\n",
        "pearson_corr, pearson_p = pearsonr(df['X'], df['Y'])\n",
        "print(f\"Pearson Correlation: {pearson_corr:.2f} (p-value: {pearson_p:.4f})\")\n",
        "\n",
        "# Spearman correlation\n",
        "spearman_corr, spearman_p = spearmanr(df['X'], df['Y'])\n",
        "print(f\"Spearman Correlation: {spearman_corr:.2f} (p-value: {spearman_p:.4f})\")\n"
      ],
      "metadata": {
        "id": "SeLoK3LYEJdI",
        "outputId": "100b836d-dc69-49bc-db0f-91b38cfe4fb7",
        "colab": {
          "base_uri": "https://localhost:8080/"
        }
      },
      "execution_count": 25,
      "outputs": [
        {
          "output_type": "stream",
          "name": "stdout",
          "text": [
            "Pearson Correlation: 1.00 (p-value: 0.0003)\n",
            "Spearman Correlation: 1.00 (p-value: 0.0000)\n"
          ]
        }
      ]
    }
  ]
}